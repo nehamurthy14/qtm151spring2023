{
 "cells": [
  {
   "attachments": {},
   "cell_type": "markdown",
   "metadata": {},
   "source": [
    "# <span style=\"color:darkblue\"> Lecture 11 (Optional): Regression Output </span>\n",
    "\n",
    "<font size = \"5\">\n",
    "\n",
    "This is an optional lecture file\n",
    "\n",
    "- This is only recommended if you've taken statistics courses \n",
    "- This lecture will not be formally evaluated\n",
    "- Keep this in material in mind for future courses\n"
   ]
  },
  {
   "attachments": {},
   "cell_type": "markdown",
   "metadata": {},
   "source": [
    "# <span style=\"color:darkblue\"> I. Import Libraries </span>\n"
   ]
  },
  {
   "cell_type": "code",
   "execution_count": 1,
   "metadata": {},
   "outputs": [],
   "source": [
    "# The \"pandas\" library is used for processing datasets\n",
    "# The \"numpy\" is for numeric observations and random numbers\n",
    "# The \"matplotlib.pyplot\" library is for creating graphs\n",
    "\n",
    "import pandas as pd\n",
    "import numpy as np\n",
    "import matplotlib.pyplot as plt"
   ]
  },
  {
   "attachments": {},
   "cell_type": "markdown",
   "metadata": {},
   "source": [
    "<font size = \"5\">\n",
    "\n",
    "Install the \"statsmodels\" library\n",
    "- Run \"pip3 install statsmodels\" in the terminal\n",
    "- Automatically included in Anaconda"
   ]
  },
  {
   "cell_type": "code",
   "execution_count": 2,
   "metadata": {},
   "outputs": [],
   "source": [
    "# We will \"alias\" two sublibraries in \"statsmodels\"\n",
    "# \"statsmodels.formula.api\" contains functions to estimate models\n",
    "# \"statsmodels.api\" contains general-use statistical options\n",
    "\n",
    "import statsmodels.api as sm\n",
    "import statsmodels.formula.api as smf\n",
    "from statsmodels.iolib.summary2 import summary_col\n"
   ]
  },
  {
   "attachments": {},
   "cell_type": "markdown",
   "metadata": {},
   "source": [
    "# <span style=\"color:darkblue\"> II. Generate Simulated Data </span>\n",
    "\n",
    "<font size = \"5\">\n",
    "\n",
    "Create an empty dataset"
   ]
  },
  {
   "cell_type": "code",
   "execution_count": 3,
   "metadata": {},
   "outputs": [],
   "source": [
    "dataset = pd.DataFrame([])"
   ]
  },
  {
   "attachments": {},
   "cell_type": "markdown",
   "metadata": {},
   "source": [
    "<font size = \"5\">\n",
    "\n",
    "Create four random variables of size ($n = 100$)"
   ]
  },
  {
   "cell_type": "code",
   "execution_count": 4,
   "metadata": {},
   "outputs": [],
   "source": [
    "n = 100\n",
    "dataset[\"x\"] = np.random.normal(loc = 0,scale = 1, size = n)\n",
    "dataset[\"z\"] = np.random.normal(loc = 0,scale = 1, size = n)\n",
    "dataset[\"e\"] = np.random.normal(loc = 0,scale = 1, size = n)\n",
    "dataset[\"z with spaces\"] = dataset[\"z\"]"
   ]
  },
  {
   "attachments": {},
   "cell_type": "markdown",
   "metadata": {},
   "source": [
    "<font size = \"5\">\n",
    "\n",
    "Create discre random variable ($n = 100$)"
   ]
  },
  {
   "cell_type": "code",
   "execution_count": 5,
   "metadata": {},
   "outputs": [],
   "source": [
    "dataset[\"d\"] = np.random.choice(a = [1,2,3],\n",
    "                                size = n,\n",
    "                                p = [0.2,0.2,0.6])"
   ]
  },
  {
   "attachments": {},
   "cell_type": "markdown",
   "metadata": {},
   "source": [
    "<font size = \"5\">\n",
    "\n",
    "Create data from the linear model\n",
    "\n",
    "$ y = 2 + 5 x + e$"
   ]
  },
  {
   "cell_type": "code",
<<<<<<< HEAD
   "execution_count": 7,
=======
   "execution_count": 6,
>>>>>>> upstream/main
   "metadata": {},
   "outputs": [],
   "source": [
    "# We can compute formulas directly over dataset columns\n",
    "dataset[\"y\"] = 2 + 5 * dataset[\"x\"] + dataset[\"e\"]"
   ]
  },
  {
   "attachments": {},
   "cell_type": "markdown",
   "metadata": {},
   "source": [
    "# <span style=\"color:darkblue\"> III. Regression Tables </span>\n"
   ]
  },
  {
   "attachments": {},
   "cell_type": "markdown",
   "metadata": {},
   "source": [
    "<font size = \"5\">\n",
    "\n",
    "Summaries for univariate regression"
   ]
  },
  {
   "cell_type": "code",
<<<<<<< HEAD
   "execution_count": 8,
=======
   "execution_count": 7,
>>>>>>> upstream/main
   "metadata": {},
   "outputs": [
    {
     "name": "stdout",
     "output_type": "stream",
     "text": [
      "\n",
      "========================\n",
      "                   y    \n",
      "------------------------\n",
<<<<<<< HEAD
      "Intercept      2.1296***\n",
      "               (0.1003) \n",
      "x              5.1025***\n",
      "               (0.0931) \n",
      "R-squared      0.9741   \n",
      "R-squared Adj. 0.9738   \n",
=======
      "Intercept      2.0517***\n",
      "               (0.0953) \n",
      "x              4.7261***\n",
      "               (0.1243) \n",
      "R-squared      0.9648   \n",
      "R-squared Adj. 0.9645   \n",
>>>>>>> upstream/main
      "========================\n",
      "Standard errors in\n",
      "parentheses.\n",
      "* p<.1, ** p<.05,\n",
      "***p<.01\n"
     ]
    }
   ],
   "source": [
    "# Run the model with multiple variables by using \"+\"\n",
    "results_univariate = smf.ols(formula = 'y ~ x',data = dataset).fit(cov_type= \"HC1\")\n",
    "\n",
    "# The \"summary_col\" functions produces nice outputs\n",
    "# We can add notation for significance by setting \"stars\" to True\n",
    "print(summary_col(results_univariate,\n",
    "                  stars = True))\n",
    "\n"
   ]
  },
  {
   "cell_type": "code",
<<<<<<< HEAD
   "execution_count": 9,
=======
   "execution_count": 8,
>>>>>>> upstream/main
   "metadata": {},
   "outputs": [
    {
     "name": "stdout",
     "output_type": "stream",
     "text": [
      "                            OLS Regression Results                            \n",
      "==============================================================================\n",
<<<<<<< HEAD
      "Dep. Variable:                      y   R-squared:                       0.974\n",
      "Model:                            OLS   Adj. R-squared:                  0.974\n",
      "Method:                 Least Squares   F-statistic:                     3005.\n",
      "Date:                Thu, 23 Feb 2023   Prob (F-statistic):           2.41e-75\n",
      "Time:                        17:08:35   Log-Likelihood:                -140.94\n",
      "No. Observations:                 100   AIC:                             285.9\n",
      "Df Residuals:                      98   BIC:                             291.1\n",
=======
      "Dep. Variable:                      y   R-squared:                       0.965\n",
      "Model:                            OLS   Adj. R-squared:                  0.964\n",
      "Method:                 Least Squares   F-statistic:                     1445.\n",
      "Date:                Sun, 26 Feb 2023   Prob (F-statistic):           1.79e-60\n",
      "Time:                        20:59:20   Log-Likelihood:                -135.14\n",
      "No. Observations:                 100   AIC:                             274.3\n",
      "Df Residuals:                      98   BIC:                             279.5\n",
>>>>>>> upstream/main
      "Df Model:                           1                                         \n",
      "Covariance Type:                  HC1                                         \n",
      "==============================================================================\n",
      "                 coef    std err          z      P>|z|      [0.025      0.975]\n",
      "------------------------------------------------------------------------------\n",
<<<<<<< HEAD
      "Intercept      2.1296      0.100     21.236      0.000       1.933       2.326\n",
      "x              5.1025      0.093     54.822      0.000       4.920       5.285\n",
      "==============================================================================\n",
      "Omnibus:                        1.087   Durbin-Watson:                   2.172\n",
      "Prob(Omnibus):                  0.581   Jarque-Bera (JB):                0.677\n",
      "Skew:                          -0.180   Prob(JB):                        0.713\n",
      "Kurtosis:                       3.183   Cond. No.                         1.23\n",
=======
      "Intercept      2.0517      0.095     21.523      0.000       1.865       2.238\n",
      "x              4.7261      0.124     38.019      0.000       4.482       4.970\n",
      "==============================================================================\n",
      "Omnibus:                       27.601   Durbin-Watson:                   1.813\n",
      "Prob(Omnibus):                  0.000   Jarque-Bera (JB):               71.793\n",
      "Skew:                           0.950   Prob(JB):                     2.57e-16\n",
      "Kurtosis:                       6.691   Cond. No.                         1.04\n",
>>>>>>> upstream/main
      "==============================================================================\n",
      "\n",
      "Notes:\n",
      "[1] Standard Errors are heteroscedasticity robust (HC1)\n"
     ]
    }
   ],
   "source": [
    "print(results_univariate.summary())"
   ]
  },
  {
   "attachments": {},
   "cell_type": "markdown",
   "metadata": {},
   "source": [
    "<font size = \"5\">\n",
    "\n",
    "Summaries for multivariate regression"
   ]
  },
  {
   "cell_type": "code",
<<<<<<< HEAD
   "execution_count": 10,
=======
   "execution_count": 9,
>>>>>>> upstream/main
   "metadata": {},
   "outputs": [
    {
     "name": "stdout",
     "output_type": "stream",
     "text": [
      "\n",
      "========================\n",
      "                   y    \n",
      "------------------------\n",
<<<<<<< HEAD
      "Intercept      2.1283***\n",
      "               (0.1003) \n",
      "x              5.0964***\n",
      "               (0.0947) \n",
      "z              0.0894   \n",
      "               (0.1111) \n",
      "R-squared      0.9742   \n",
      "R-squared Adj. 0.9737   \n",
=======
      "Intercept      2.0354***\n",
      "               (0.0981) \n",
      "x              4.7209***\n",
      "               (0.1245) \n",
      "z              -0.1063  \n",
      "               (0.0771) \n",
      "R-squared      0.9653   \n",
      "R-squared Adj. 0.9646   \n",
>>>>>>> upstream/main
      "========================\n",
      "Standard errors in\n",
      "parentheses.\n",
      "* p<.1, ** p<.05,\n",
      "***p<.01\n"
     ]
    }
   ],
   "source": [
    "# Run the model with multiple variables by using \"+\"\n",
    "results_multivariate = smf.ols(formula = 'y ~ x + z',\n",
    "                               data = dataset).fit(cov_type = \"HC1\")\n",
    "print(summary_col(results_multivariate,\n",
    "                  stars = True))"
   ]
  },
  {
   "attachments": {},
   "cell_type": "markdown",
   "metadata": {},
   "source": [
    "<font size = \"5\">\n",
    "\n",
    "Summaries for multivariate regression + colnames w/ spaces"
   ]
  },
  {
   "cell_type": "code",
   "execution_count": 10,
   "metadata": {},
   "outputs": [
    {
     "name": "stdout",
     "output_type": "stream",
     "text": [
      "\n",
      "============================\n",
      "                       y    \n",
      "----------------------------\n",
      "Intercept          2.0354***\n",
      "                   (0.0981) \n",
      "x                  4.7209***\n",
      "                   (0.1245) \n",
      "Q(\"z with spaces\") -0.1063  \n",
      "                   (0.0771) \n",
      "R-squared          0.9653   \n",
      "R-squared Adj.     0.9646   \n",
      "============================\n",
      "Standard errors in\n",
      "parentheses.\n",
      "* p<.1, ** p<.05, ***p<.01\n"
     ]
    }
   ],
   "source": [
    "# Use Q(\"...\") to reference variables that\n",
    "# have spaces in the name\n",
    "results_multivariate_spaces = smf.ols(formula = 'y ~ x + Q(\"z with spaces\") ',\n",
    "                                      data = dataset).fit(cov_type = \"HC1\")\n",
    "print(summary_col(results_multivariate_spaces,\n",
    "                  stars = True))"
   ]
  },
  {
   "attachments": {},
   "cell_type": "markdown",
   "metadata": {},
   "source": [
    "<font size = \"5\">\n",
    "\n",
    "Summaries for multivariate regression + categories"
   ]
  },
  {
   "cell_type": "code",
   "execution_count": 11,
   "metadata": {},
   "outputs": [
    {
     "name": "stdout",
     "output_type": "stream",
     "text": [
      "\n",
      "========================\n",
      "                   y    \n",
      "------------------------\n",
<<<<<<< HEAD
      "Intercept      2.5534***\n",
      "               (0.2113) \n",
      "C(d)[T.2]      -0.3333  \n",
      "               (0.3341) \n",
      "C(d)[T.3]      -0.6212**\n",
      "               (0.2451) \n",
      "x              5.0721***\n",
      "               (0.0928) \n",
      "R-squared      0.9758   \n",
      "R-squared Adj. 0.9750   \n",
=======
      "Intercept      2.0005***\n",
      "               (0.1393) \n",
      "C(d)[T.2]      0.0737   \n",
      "               (0.2339) \n",
      "C(d)[T.3]      0.0572   \n",
      "               (0.1836) \n",
      "x              4.7220***\n",
      "               (0.1259) \n",
      "R-squared      0.9648   \n",
      "R-squared Adj. 0.9637   \n",
>>>>>>> upstream/main
      "========================\n",
      "Standard errors in\n",
      "parentheses.\n",
      "* p<.1, ** p<.05,\n",
      "***p<.01\n"
     ]
    }
   ],
   "source": [
    "# Run the model with multiple variables by using \"+\"\n",
    "# This creates a set of distinct indicator variables for each category\n",
    "results_multivariate_category = smf.ols(formula = 'y ~ x + C(d)',\n",
    "                                        data = dataset).fit(cov_type = \"HC1\")\n",
    "\n",
    "# The results are reported with a base category, T.1\n",
    "print(summary_col(results_multivariate_category,\n",
    "                  stars = True))"
   ]
  },
  {
   "attachments": {},
   "cell_type": "markdown",
   "metadata": {},
   "source": [
    "<font size = \"5\">\n",
    "\n",
    "Summaries for multivariate regression + interaction"
   ]
  },
  {
   "cell_type": "code",
   "execution_count": 12,
   "metadata": {},
   "outputs": [
    {
     "name": "stdout",
     "output_type": "stream",
     "text": [
      "\n",
      "========================\n",
      "                   y    \n",
      "------------------------\n",
<<<<<<< HEAD
      "Intercept      2.1370***\n",
      "               (0.0999) \n",
      "x              5.1231***\n",
      "               (0.0964) \n",
      "z              0.1125   \n",
      "               (0.1132) \n",
      "z:x            -0.1240  \n",
      "               (0.1058) \n",
      "R-squared      0.9747   \n",
      "R-squared Adj. 0.9739   \n",
=======
      "Intercept      2.0290***\n",
      "               (0.0989) \n",
      "x              4.6784***\n",
      "               (0.1371) \n",
      "z              -0.0978  \n",
      "               (0.0721) \n",
      "z:x            -0.1350  \n",
      "               (0.1064) \n",
      "R-squared      0.9660   \n",
      "R-squared Adj. 0.9650   \n",
>>>>>>> upstream/main
      "========================\n",
      "Standard errors in\n",
      "parentheses.\n",
      "* p<.1, ** p<.05,\n",
      "***p<.01\n"
     ]
    }
   ],
   "source": [
    "# Run the model with multiple variables by using \"+\"\n",
    "# This creates a set of distinct indicator variables for each category\n",
    "results_multivariate_interaction = smf.ols(formula = 'y ~ x + z + z:x',\n",
    "                                        data = dataset).fit(cov_type = \"HC1\")\n",
    "\n",
    "# The results are reported with a base category, T.1\n",
    "print(summary_col(results_multivariate_interaction,\n",
    "                  stars = True))"
   ]
  },
  {
   "attachments": {},
   "cell_type": "markdown",
   "metadata": {},
   "source": [
    "# <span style=\"color:darkblue\"> IV. Professional Tables </span>\n"
   ]
  },
  {
   "attachments": {},
   "cell_type": "markdown",
   "metadata": {},
   "source": [
    "<font size = \"5\">\n",
    "\n",
    "Summaries for multiple columns"
   ]
  },
  {
   "cell_type": "code",
   "execution_count": 13,
   "metadata": {},
   "outputs": [
    {
     "name": "stdout",
     "output_type": "stream",
     "text": [
      "\n",
      "======================================================\n",
      "                  y I       y II     y III     y IIII \n",
      "------------------------------------------------------\n",
<<<<<<< HEAD
      "C(d)[T.2]                          -0.3333            \n",
      "                                   (0.3341)           \n",
      "C(d)[T.3]                          -0.6212**          \n",
      "                                   (0.2451)           \n",
      "Intercept      2.1296*** 2.1283*** 2.5534*** 2.1370***\n",
      "               (0.1003)  (0.1003)  (0.2113)  (0.0999) \n",
      "R-squared      0.9741    0.9742    0.9758    0.9747   \n",
      "R-squared Adj. 0.9738    0.9737    0.9750    0.9739   \n",
      "x              5.1025*** 5.0964*** 5.0721*** 5.1231***\n",
      "               (0.0931)  (0.0947)  (0.0928)  (0.0964) \n",
      "z                        0.0894              0.1125   \n",
      "                         (0.1111)            (0.1132) \n",
      "z:x                                          -0.1240  \n",
      "                                             (0.1058) \n",
=======
      "C(d)[T.2]                          0.0737             \n",
      "                                   (0.2339)           \n",
      "C(d)[T.3]                          0.0572             \n",
      "                                   (0.1836)           \n",
      "Intercept      2.0517*** 2.0354*** 2.0005*** 2.0290***\n",
      "               (0.0953)  (0.0981)  (0.1393)  (0.0989) \n",
      "R-squared      0.9648    0.9653    0.9648    0.9660   \n",
      "R-squared Adj. 0.9645    0.9646    0.9637    0.9650   \n",
      "x              4.7261*** 4.7209*** 4.7220*** 4.6784***\n",
      "               (0.1243)  (0.1245)  (0.1259)  (0.1371) \n",
      "z                        -0.1063             -0.0978  \n",
      "                         (0.0771)            (0.0721) \n",
      "z:x                                          -0.1350  \n",
      "                                             (0.1064) \n",
>>>>>>> upstream/main
      "======================================================\n",
      "Standard errors in parentheses.\n",
      "* p<.1, ** p<.05, ***p<.01\n"
     ]
    }
   ],
   "source": [
    "list_results = [results_univariate,\n",
    "                results_multivariate,\n",
    "                results_multivariate_category,\n",
    "                results_multivariate_interaction]\n",
    "\n",
    "print(summary_col(list_results,\n",
    "                  stars = True))\n"
   ]
  },
  {
   "attachments": {},
   "cell_type": "markdown",
   "metadata": {},
   "source": [
    "<font size = \"5\">\n",
    "\n",
    "Summaries for multiple columns (sorted + titled + stats)"
   ]
  },
  {
   "cell_type": "code",
   "execution_count": 14,
   "metadata": {},
   "outputs": [
    {
     "name": "stdout",
     "output_type": "stream",
     "text": [
      "\n",
      "==============================================================\n",
      "               Univariate Multivariate Categorical Interaction\n",
      "--------------------------------------------------------------\n",
<<<<<<< HEAD
      "x              5.1025***  5.0964***    5.0721***   5.1231***  \n",
      "               (0.0931)   (0.0947)     (0.0928)    (0.0964)   \n",
      "z                         0.0894                   0.1125     \n",
      "                          (0.1111)                 (0.1132)   \n",
      "z:x                                                -0.1240    \n",
      "                                                   (0.1058)   \n",
      "C(d)[T.2]                              -0.3333                \n",
      "                                       (0.3341)               \n",
      "C(d)[T.3]                              -0.6212**              \n",
      "                                       (0.2451)               \n",
      "Intercept      2.1296***  2.1283***    2.5534***   2.1370***  \n",
      "               (0.1003)   (0.1003)     (0.2113)    (0.0999)   \n",
      "R-squared      0.9741     0.9742       0.9758      0.9747     \n",
      "R-squared Adj. 0.9738     0.9737       0.9750      0.9739     \n",
=======
      "x              4.7261***  4.7209***    4.7220***   4.6784***  \n",
      "               (0.1243)   (0.1245)     (0.1259)    (0.1371)   \n",
      "z                         -0.1063                  -0.0978    \n",
      "                          (0.0771)                 (0.0721)   \n",
      "z:x                                                -0.1350    \n",
      "                                                   (0.1064)   \n",
      "C(d)[T.2]                              0.0737                 \n",
      "                                       (0.2339)               \n",
      "C(d)[T.3]                              0.0572                 \n",
      "                                       (0.1836)               \n",
      "Intercept      2.0517***  2.0354***    2.0005***   2.0290***  \n",
      "               (0.0953)   (0.0981)     (0.1393)    (0.0989)   \n",
      "R-squared      0.9648     0.9653       0.9648      0.9660     \n",
      "R-squared Adj. 0.9645     0.9646       0.9637      0.9650     \n",
>>>>>>> upstream/main
      "N              100        100          100         100        \n",
      "==============================================================\n",
      "Standard errors in parentheses.\n",
      "* p<.1, ** p<.05, ***p<.01\n"
     ]
    }
   ],
   "source": [
    "# This list inputs the headings of the table\n",
    "list_headings   = [\"Univariate\",\n",
    "                   \"Multivariate\",\n",
    "                   \"Categorical\",\n",
    "                   \"Interaction\"]\n",
    "\n",
    "# This is the list of regressor names (if you want a particular order)\n",
    "list_regressors = [\"x\",\n",
    "                   \"z\",\n",
    "                   \"z:x\",\n",
    "                   \"C(d)[T.2]\",\n",
    "                   \"C(d)[T.3]\"]\n",
    "\n",
    "# This is a function that extracts the sample size\n",
    "# Can use with other summary statistics\n",
    "# \"nobs\" is the number of observations\n",
    "compute_summary = {'N':lambda model: format(int(model.nobs))}\n",
    "\n",
    "print(summary_col(list_results,\n",
    "                  stars = True,\n",
    "                  model_names = list_headings,\n",
    "                  info_dict={'N':lambda x: format(int(x.nobs))},\n",
    "                  regressor_order = [\"x\",\"z\",\"z:x\",\"C(d)[T.2]\",\"C(d)[T.3]\"]))"
   ]
  },
  {
   "attachments": {},
   "cell_type": "markdown",
   "metadata": {},
   "source": [
    "<font size = \"5\">\n",
    "\n",
    "Detailed table"
   ]
  },
  {
   "cell_type": "code",
   "execution_count": 15,
   "metadata": {},
   "outputs": [
    {
     "name": "stdout",
     "output_type": "stream",
     "text": [
      "                            OLS Regression Results                            \n",
      "==============================================================================\n",
<<<<<<< HEAD
      "Dep. Variable:                      y   R-squared:                       0.974\n",
      "Model:                            OLS   Adj. R-squared:                  0.974\n",
      "Method:                 Least Squares   F-statistic:                     3005.\n",
      "Date:                Thu, 23 Feb 2023   Prob (F-statistic):           2.41e-75\n",
      "Time:                        17:11:26   Log-Likelihood:                -140.94\n",
      "No. Observations:                 100   AIC:                             285.9\n",
      "Df Residuals:                      98   BIC:                             291.1\n",
=======
      "Dep. Variable:                      y   R-squared:                       0.965\n",
      "Model:                            OLS   Adj. R-squared:                  0.964\n",
      "Method:                 Least Squares   F-statistic:                     1445.\n",
      "Date:                Sun, 26 Feb 2023   Prob (F-statistic):           1.79e-60\n",
      "Time:                        20:59:20   Log-Likelihood:                -135.14\n",
      "No. Observations:                 100   AIC:                             274.3\n",
      "Df Residuals:                      98   BIC:                             279.5\n",
>>>>>>> upstream/main
      "Df Model:                           1                                         \n",
      "Covariance Type:                  HC1                                         \n",
      "==============================================================================\n",
      "                 coef    std err          z      P>|z|      [0.025      0.975]\n",
      "------------------------------------------------------------------------------\n",
<<<<<<< HEAD
      "Intercept      2.1296      0.100     21.236      0.000       1.933       2.326\n",
      "x              5.1025      0.093     54.822      0.000       4.920       5.285\n",
      "==============================================================================\n",
      "Omnibus:                        1.087   Durbin-Watson:                   2.172\n",
      "Prob(Omnibus):                  0.581   Jarque-Bera (JB):                0.677\n",
      "Skew:                          -0.180   Prob(JB):                        0.713\n",
      "Kurtosis:                       3.183   Cond. No.                         1.23\n",
=======
      "Intercept      2.0517      0.095     21.523      0.000       1.865       2.238\n",
      "x              4.7261      0.124     38.019      0.000       4.482       4.970\n",
      "==============================================================================\n",
      "Omnibus:                       27.601   Durbin-Watson:                   1.813\n",
      "Prob(Omnibus):                  0.000   Jarque-Bera (JB):               71.793\n",
      "Skew:                           0.950   Prob(JB):                     2.57e-16\n",
      "Kurtosis:                       6.691   Cond. No.                         1.04\n",
>>>>>>> upstream/main
      "==============================================================================\n",
      "\n",
      "Notes:\n",
      "[1] Standard Errors are heteroscedasticity robust (HC1)\n"
     ]
    }
   ],
   "source": [
    "# Detailed Summary\n",
    "print(results_univariate.summary())"
   ]
  }
 ],
 "metadata": {
  "kernelspec": {
   "display_name": "base",
   "language": "python",
   "name": "python3"
  },
  "language_info": {
   "codemirror_mode": {
    "name": "ipython",
    "version": 3
   },
   "file_extension": ".py",
   "mimetype": "text/x-python",
   "name": "python",
   "nbconvert_exporter": "python",
   "pygments_lexer": "ipython3",
   "version": "3.9.13"
  },
  "orig_nbformat": 4,
  "vscode": {
   "interpreter": {
<<<<<<< HEAD
    "hash": "c4dc64b088ca1a275262d1f049a275e9aca9f5e91546a566321a00756798460e"
=======
    "hash": "45fc1f684f6f416f40889115beff3ddf69879b64cf4bfee48cb72a61e9d15d1a"
>>>>>>> upstream/main
   }
  }
 },
 "nbformat": 4,
 "nbformat_minor": 2
}
