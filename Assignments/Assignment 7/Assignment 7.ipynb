{
 "cells": [
  {
   "attachments": {},
   "cell_type": "markdown",
   "metadata": {},
   "source": [
    "# Assignment 7"
   ]
  },
  {
   "attachments": {},
   "cell_type": "markdown",
   "metadata": {},
   "source": [
    "## Try to submit as an HTML file"
   ]
  },
  {
   "attachments": {},
   "cell_type": "markdown",
   "metadata": {},
   "source": [
    "<font size = \"5\">\n",
    "Print your name below"
   ]
  },
  {
   "cell_type": "code",
   "execution_count": 1,
   "metadata": {},
   "outputs": [
    {
     "name": "stdout",
     "output_type": "stream",
     "text": [
      "Neha Murthy\n"
     ]
    }
   ],
   "source": [
    "print(\"Neha Murthy\")"
   ]
  },
  {
   "attachments": {},
   "cell_type": "markdown",
   "metadata": {},
   "source": [
    "<font size = \"5\">\n",
    "\n",
    "Import the \"pandas\" and \"numpy\" library"
   ]
  },
  {
   "cell_type": "code",
   "execution_count": 2,
   "metadata": {},
   "outputs": [],
   "source": [
    "# Write your answer here:\n",
    "\n",
    "import pandas as pd\n",
    "import numpy as np"
   ]
  },
  {
   "attachments": {},
   "cell_type": "markdown",
   "metadata": {},
   "source": [
    "<font size = \"5\">\n",
    "\n",
    "(a) Replace values from intervals\n",
    "\n",
    "<font size = \"3\">\n",
    "\n",
    "- Import the dataset \"data_raw/students.csv\" to a new object \"students\"\n",
    "- Use \"pd.cut()\" to assign the column \"numericgrade\" to a letter grade <br>\n",
    "using the following table\n",
    "\n",
    "<img src=\"figures/grading_scale.png\" alt=\"drawing\" width=\"600\"/>\n",
    "\n",
    "HINT: See Lecture 13"
   ]
  },
  {
   "cell_type": "code",
   "execution_count": 3,
   "metadata": {},
   "outputs": [],
   "source": [
    "# Write your own code\n",
    "\n",
    "students = pd.read_csv(\"data_raw/students.csv\")\n",
    "\n",
    "#You must start the bins at negative infinity because the zero as for the first \n",
    "#interval will not be included due to the less than or equal to being imposed on the right side. \n",
    "#So for student 2 to have a letter grade we must start the bins at negative infinity and not zero.\n",
    "bins_x = [float(\"-inf\"), 54, 59, 64, 69, 74, 79, 82, 86, 92, float(\"inf\")]\n",
    "labels_x = [\"F\",\n",
    "            \"D\",\n",
    "            \"C-\",\n",
    "            \"C\",\n",
    "            \"C+\",\n",
    "            \"B-\",\n",
    "            \"B\",\n",
    "            \"B+\",\n",
    "            \"A-\",\n",
    "            \"A\"]\n",
    "\n",
    "students[\"lettergrade\"] = pd.cut(students[\"numericgrade\"],\n",
    "                              bins = bins_x,\n",
    "                              right = True,\n",
    "                              labels = labels_x)\n",
    "\n"
   ]
  },
  {
   "attachments": {},
   "cell_type": "markdown",
   "metadata": {},
   "source": [
    "<font size = \"5\">\n",
    "\n",
    "For questions (b)-(e) use \"results.csv\", <br>\n",
    "a dataset on competitive car racing\n",
    "\n",
    "Import the dataset \"data_raw/results.csv\" to <br>\n",
    " a new object \"results\""
   ]
  },
  {
   "attachments": {},
   "cell_type": "markdown",
   "metadata": {},
   "source": [
    "<font size = \"5\">\n",
    "\n",
    "(b) Check column types\n",
    "\n",
    "<font size = \"3\">\n",
    "\n",
    "- View the dataset\n",
    "- Use the function \"results.dtypes\" to get the column types\n",
    "- Search for the \"results\" table in \"codebook/f1_codebook.pdf\".\n",
    "- Does the type of the \"milliseconds\" column agree with the codebook? <br>\n",
    "i.e. is it an integer, float, or string/object?\n",
    "\n",
    "\n",
    "HINT: See Lectures 13 and 14 for how to interpret the codebook\n"
   ]
  },
  {
   "cell_type": "code",
   "execution_count": 4,
   "metadata": {},
   "outputs": [
    {
     "data": {
      "text/plain": [
       "resultId             int64\n",
       "raceId               int64\n",
       "driverId             int64\n",
       "constructorId        int64\n",
       "number              object\n",
       "grid                 int64\n",
       "position            object\n",
       "positionText        object\n",
       "positionOrder        int64\n",
       "points             float64\n",
       "laps                 int64\n",
       "time                object\n",
       "milliseconds        object\n",
       "fastestLap          object\n",
       "rank                object\n",
       "fastestLapTime      object\n",
       "fastestLapSpeed     object\n",
       "statusId             int64\n",
       "dtype: object"
      ]
     },
     "execution_count": 4,
     "metadata": {},
     "output_type": "execute_result"
    }
   ],
   "source": [
    "# Write your own code here\n",
    "# Note: When you run \"results.dtypes\" you will get the type (int, float, object)\n",
    "# Object represents columns coded as strings.\n",
    "\n",
    "results = pd.read_csv(\"data_raw/results.csv\")\n",
    "\n",
    "results.dtypes\n",
    "\n",
    "# No they don't agree. According to dtypes, milliseconds is an object which means that it is a string but on the results table it is labeled an integer. \n"
   ]
  },
  {
   "attachments": {},
   "cell_type": "markdown",
   "metadata": {},
   "source": [
    "<font size = \"5\">\n",
    "\n",
    "(c) Clean a column\n",
    "\n",
    "<font size = \"3\">\n",
    "\n",
    "- Import the dataset \"data_raw/results.csv\" to a new object \"results\"\n",
    "- Our goal is to replace any string values in the column \"milliseconds\" <br>\n",
    "to missing values (NaNs) and covert to numeric\n",
    "- To do so, go to Lecture 13 and follow the setups under the headings\n",
    "    - \"Extract list of non-numeric values\"\n",
    "    - \"Replace certain values\"\n",
    "    - \"Convert column to numeric\"\n",
    "\n",
    "HINT: substitute \"milliseconds\" instead of \"alt\", <br>\n",
    "and the dataset \"results\" instead of \"circuits\" \n"
   ]
  },
  {
   "cell_type": "code",
   "execution_count": 5,
   "metadata": {},
   "outputs": [
    {
     "name": "stdout",
     "output_type": "stream",
     "text": [
      "['\\\\N']\n"
     ]
    }
   ],
   "source": [
    "# Write your own code here\n",
    "\n",
    "subset      = results.query(\"milliseconds.str.isnumeric() == False\")\n",
    "list_unique = pd.unique(subset[\"milliseconds\"])\n",
    "print(list_unique)\n",
    "\n",
    "list_old = ['\\\\N']\n",
    "list_new = [np.nan]\n",
    "\n",
    "results[\"milliseconds\"] = results[\"milliseconds\"].replace(list_old, list_new)\n",
    "\n",
    "results[\"milliseconds_numeric\"] = pd.to_numeric(results[\"milliseconds\"])"
   ]
  },
  {
   "attachments": {},
   "cell_type": "markdown",
   "metadata": {},
   "source": [
    "<font size = \"5\">\n",
    "\n",
    "(d) Groupby + Aggregate\n",
    "\n",
    "<font size = \"3\">\n",
    "\n",
    "- Compute the mean and standard deviation of \"laps\", <br>\n",
    "grouping by \"constructorId\". Store the new dataset <br>\n",
    "as \"results_agg\"\n",
    "- Sort the aggregate dataset in decending <br>\n",
    "order of mean laps using \".sort_values()\"\n",
    "\n",
    "HINT: See Lecture 14 <br>\n"
   ]
  },
  {
   "cell_type": "code",
   "execution_count": 14,
   "metadata": {},
   "outputs": [
    {
     "data": {
      "text/html": [
       "<div>\n",
       "<style scoped>\n",
       "    .dataframe tbody tr th:only-of-type {\n",
       "        vertical-align: middle;\n",
       "    }\n",
       "\n",
       "    .dataframe tbody tr th {\n",
       "        vertical-align: top;\n",
       "    }\n",
       "\n",
       "    .dataframe thead th {\n",
       "        text-align: right;\n",
       "    }\n",
       "</style>\n",
       "<table border=\"1\" class=\"dataframe\">\n",
       "  <thead>\n",
       "    <tr style=\"text-align: right;\">\n",
       "      <th></th>\n",
       "      <th>mean_laps</th>\n",
       "      <th>sd_laps</th>\n",
       "    </tr>\n",
       "    <tr>\n",
       "      <th>constructorId</th>\n",
       "      <th></th>\n",
       "      <th></th>\n",
       "    </tr>\n",
       "  </thead>\n",
       "  <tbody>\n",
       "    <tr>\n",
       "      <th>149</th>\n",
       "      <td>198.500000</td>\n",
       "      <td>2.121320</td>\n",
       "    </tr>\n",
       "    <tr>\n",
       "      <th>112</th>\n",
       "      <td>197.000000</td>\n",
       "      <td>4.242641</td>\n",
       "    </tr>\n",
       "    <tr>\n",
       "      <th>109</th>\n",
       "      <td>184.285714</td>\n",
       "      <td>32.912583</td>\n",
       "    </tr>\n",
       "    <tr>\n",
       "      <th>119</th>\n",
       "      <td>178.666667</td>\n",
       "      <td>36.950417</td>\n",
       "    </tr>\n",
       "    <tr>\n",
       "      <th>108</th>\n",
       "      <td>163.764706</td>\n",
       "      <td>63.148168</td>\n",
       "    </tr>\n",
       "    <tr>\n",
       "      <th>...</th>\n",
       "      <td>...</td>\n",
       "      <td>...</td>\n",
       "    </tr>\n",
       "    <tr>\n",
       "      <th>93</th>\n",
       "      <td>0.000000</td>\n",
       "      <td>NaN</td>\n",
       "    </tr>\n",
       "    <tr>\n",
       "      <th>61</th>\n",
       "      <td>0.000000</td>\n",
       "      <td>0.000000</td>\n",
       "    </tr>\n",
       "    <tr>\n",
       "      <th>137</th>\n",
       "      <td>0.000000</td>\n",
       "      <td>NaN</td>\n",
       "    </tr>\n",
       "    <tr>\n",
       "      <th>91</th>\n",
       "      <td>0.000000</td>\n",
       "      <td>NaN</td>\n",
       "    </tr>\n",
       "    <tr>\n",
       "      <th>74</th>\n",
       "      <td>0.000000</td>\n",
       "      <td>0.000000</td>\n",
       "    </tr>\n",
       "  </tbody>\n",
       "</table>\n",
       "<p>210 rows × 2 columns</p>\n",
       "</div>"
      ],
      "text/plain": [
       "                mean_laps    sd_laps\n",
       "constructorId                       \n",
       "149            198.500000   2.121320\n",
       "112            197.000000   4.242641\n",
       "109            184.285714  32.912583\n",
       "119            178.666667  36.950417\n",
       "108            163.764706  63.148168\n",
       "...                   ...        ...\n",
       "93               0.000000        NaN\n",
       "61               0.000000   0.000000\n",
       "137              0.000000        NaN\n",
       "91               0.000000        NaN\n",
       "74               0.000000   0.000000\n",
       "\n",
       "[210 rows x 2 columns]"
      ]
     },
     "metadata": {},
     "output_type": "display_data"
    }
   ],
   "source": [
    "# Write your own code\n",
    "\n",
    "results_agg = (results.groupby(\"constructorId\")\n",
    "                        .agg(mean_laps = ('laps', 'mean'), sd_laps = ('laps', 'std'))\n",
    "                        .sort_values(\"mean_laps\", ascending = False))\n",
    "\n",
    "display(results_agg)"
   ]
  },
  {
   "attachments": {},
   "cell_type": "markdown",
   "metadata": {},
   "source": [
    "<font size = \"5\" >\n",
    "\n",
    "(e) Query + Groupby + Aggregate\n",
    "\n",
    "<font size = \"3\">\n",
    "\n",
    "- Use \".query()\" to subset observations with <br>\n",
    "'raceId >= 200'\n",
    "- Compute the mean and standard deviation of \"laps\", <br>\n",
    "grouping by \"constructorId\". Store the new dataset <br>\n",
    "as \"results_agg\"\n",
    "\n",
    "Hint: See Lecture 11 (to refresh \".query()\") and <br>\n",
    "Lecture 14 for how to combine it with \".groupby()\""
   ]
  },
  {
   "cell_type": "code",
   "execution_count": 15,
   "metadata": {},
   "outputs": [],
   "source": [
    "# Write your own code\n",
    "\n",
    "results_agg = (results.query(\"raceId >= 200\")\n",
    "                        .groupby(\"constructorId\")\n",
    "                        .agg(mean_laps = ('laps', 'mean'), sd_laps = ('laps', 'std')) )\n"
   ]
  }
 ],
 "metadata": {
  "kernelspec": {
   "display_name": "base",
   "language": "python",
   "name": "python3"
  },
  "language_info": {
   "codemirror_mode": {
    "name": "ipython",
    "version": 3
   },
   "file_extension": ".py",
   "mimetype": "text/x-python",
   "name": "python",
   "nbconvert_exporter": "python",
   "pygments_lexer": "ipython3",
   "version": "3.9.13"
  },
  "orig_nbformat": 4,
  "vscode": {
   "interpreter": {
    "hash": "45fc1f684f6f416f40889115beff3ddf69879b64cf4bfee48cb72a61e9d15d1a"
   }
  }
 },
 "nbformat": 4,
 "nbformat_minor": 2
}
